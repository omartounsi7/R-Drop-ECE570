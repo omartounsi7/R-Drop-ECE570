{
  "nbformat": 4,
  "nbformat_minor": 0,
  "metadata": {
    "colab": {
      "provenance": []
    },
    "kernelspec": {
      "name": "python3",
      "display_name": "Python 3"
    },
    "language_info": {
      "name": "python"
    }
  },
  "cells": [
    {
      "cell_type": "code",
      "execution_count": null,
      "metadata": {
        "id": "_sLg8UT3HPSg",
        "colab": {
          "base_uri": "https://localhost:8080/"
        },
        "outputId": "80cfed00-5e08-4af0-cd73-60115694de8c"
      },
      "outputs": [
        {
          "output_type": "stream",
          "name": "stdout",
          "text": [
            "Using device: cpu\n"
          ]
        },
        {
          "output_type": "stream",
          "name": "stderr",
          "text": [
            "100%|██████████| 170M/170M [00:01<00:00, 105MB/s]\n"
          ]
        }
      ],
      "source": [
        "import torch\n",
        "import torch.nn as nn\n",
        "import torch.optim as optim\n",
        "import torch.nn.functional as F\n",
        "import torchvision\n",
        "from torchvision import datasets, transforms\n",
        "from torch.utils.data import DataLoader\n",
        "from tqdm import tqdm\n",
        "\n",
        "device = torch.device(\"cpu\")\n",
        "print(f\"Using device: {device}\")\n",
        "\n",
        "transform_train = transforms.Compose([\n",
        "    transforms.RandomCrop(32, padding=4),\n",
        "    transforms.RandomHorizontalFlip(),\n",
        "    transforms.ToTensor(),\n",
        "    transforms.Normalize((0.4914, 0.4822, 0.4465), (0.2023, 0.1994, 0.2010)),\n",
        "])\n",
        "\n",
        "transform_test = transforms.Compose([\n",
        "    transforms.ToTensor(),\n",
        "    transforms.Normalize((0.4914, 0.4822, 0.4465), (0.2023, 0.1994, 0.2010)),\n",
        "])\n",
        "\n",
        "trainset = datasets.CIFAR10(root='./data', train=True, download=True, transform=transform_train)\n",
        "trainloader = DataLoader(trainset, batch_size=64, shuffle=True, num_workers=0)\n",
        "\n",
        "testset = datasets.CIFAR10(root='./data', train=False, download=True, transform=transform_test)\n",
        "testloader = DataLoader(testset, batch_size=64, shuffle=False, num_workers=0)\n",
        "\n",
        "class SimpleCNN(nn.Module):\n",
        "    def __init__(self):\n",
        "        super(SimpleCNN, self).__init__()\n",
        "        self.conv1 = nn.Conv2d(3, 32, kernel_size=3, padding=1)\n",
        "        self.pool = nn.MaxPool2d(kernel_size=2, stride=2, padding=0)\n",
        "        self.conv2 = nn.Conv2d(32, 64, kernel_size=3, padding=1)\n",
        "        self.fc1 = nn.Linear(64 * 8 * 8, 128)\n",
        "        self.dropout = nn.Dropout(0.5)\n",
        "        self.fc2 = nn.Linear(128, 10)\n",
        "\n",
        "    def forward(self, x):\n",
        "        x = self.pool(F.relu(self.conv1(x)))\n",
        "        x = self.pool(F.relu(self.conv2(x)))\n",
        "        x = x.view(-1, 64 * 8 * 8)\n",
        "        x = F.relu(self.fc1(x))\n",
        "        x = self.dropout(x)\n",
        "        x = self.fc2(x)\n",
        "        return x\n",
        "\n",
        "class RDropLoss(nn.Module):\n",
        "    def __init__(self, alpha):\n",
        "        super(RDropLoss, self).__init__()\n",
        "        self.cross_entropy = nn.CrossEntropyLoss()\n",
        "        self.alpha = alpha\n",
        "\n",
        "    def compute_kl_loss(self, p, q):\n",
        "        p_prob = F.softmax(p, dim=-1)\n",
        "        q_prob = F.softmax(q, dim=-1)\n",
        "        p_log_prob = F.log_softmax(p, dim=-1)\n",
        "        q_log_prob = F.log_softmax(q, dim=-1)\n",
        "        kl_pq = F.kl_div(p_log_prob, q_prob, reduction='batchmean')\n",
        "        kl_qp = F.kl_div(q_log_prob, p_prob, reduction='batchmean')\n",
        "        return (kl_pq + kl_qp) / 2\n",
        "\n",
        "    def forward(self, p, q, labels):\n",
        "        ce_loss = (self.cross_entropy(p, labels) + self.cross_entropy(q, labels)) / 2\n",
        "        kl_loss = self.compute_kl_loss(p, q)\n",
        "        return ce_loss + self.alpha * kl_loss\n",
        "\n",
        "def train_baseline(model, trainloader, criterion, optimizer, epoch):\n",
        "    model.train()\n",
        "    running_loss = 0.0\n",
        "    for i, data in enumerate(tqdm(trainloader, desc=f\"Epoch {epoch+1} [Baseline Training]\")):\n",
        "        inputs, labels = data\n",
        "        inputs, labels = inputs.to(device), labels.to(device)\n",
        "        optimizer.zero_grad()\n",
        "        outputs = model(inputs)\n",
        "        loss = criterion(outputs, labels)\n",
        "        loss.backward()\n",
        "        optimizer.step()\n",
        "        running_loss += loss.item()\n",
        "    print(f\"Loss: {running_loss / len(trainloader):.3f}\")\n",
        "\n",
        "def train_rdrop(model, trainloader, criterion_rdrop, optimizer, epoch):\n",
        "    model.train()\n",
        "    running_loss = 0.0\n",
        "    for i, data in enumerate(tqdm(trainloader, desc=f\"Epoch {epoch+1} [R-Drop Training]\")):\n",
        "        inputs, labels = data\n",
        "        inputs, labels = inputs.to(device), labels.to(device)\n",
        "        optimizer.zero_grad()\n",
        "        outputs_1 = model(inputs)\n",
        "        outputs_2 = model(inputs)\n",
        "        loss = criterion_rdrop(outputs_1, outputs_2, labels)\n",
        "        loss.backward()\n",
        "        optimizer.step()\n",
        "        running_loss += loss.item()\n",
        "    print(f\"Loss: {running_loss / len(trainloader):.3f}\")\n",
        "\n",
        "def evaluate_model(model, testloader):\n",
        "    model.eval()\n",
        "    correct = 0\n",
        "    total = 0\n",
        "    with torch.no_grad():\n",
        "        for data in testloader:\n",
        "            images, labels = data\n",
        "            images, labels = images.to(device), labels.to(device)\n",
        "            outputs = model(images)\n",
        "            _, predicted = torch.max(outputs.data, 1)\n",
        "            total += labels.size(0)\n",
        "            correct += (predicted == labels).sum().item()\n",
        "    accuracy = 100 * correct / total\n",
        "    print(f'Accuracy: {accuracy:.2f} %')\n",
        "    return accuracy\n",
        "\n",
        "def run_training(num_epochs, learning_rate, alpha=None):\n",
        "    model = SimpleCNN().to(device)\n",
        "    optimizer = optim.Adam(model.parameters(), lr=learning_rate)\n",
        "    start_epoch = 0\n",
        "\n",
        "    if alpha is not None:\n",
        "        model_type = f\"R-Drop Model {alpha}\"\n",
        "        criterion = RDropLoss(alpha=alpha)\n",
        "        train_function = train_rdrop\n",
        "        model_save_path = f'rdrop_model_{alpha}_checkpoint.pth'\n",
        "    else:\n",
        "        model_type = \"Baseline Model\"\n",
        "        criterion = nn.CrossEntropyLoss()\n",
        "        train_function = train_baseline\n",
        "        model_save_path = 'baseline_model_checkpoint.pth'\n",
        "\n",
        "    print(f\"--- Starting {model_type} Training ---\")\n",
        "\n",
        "    try:\n",
        "        checkpoint = torch.load(model_save_path)\n",
        "        model.load_state_dict(checkpoint['model_state_dict'])\n",
        "        optimizer.load_state_dict(checkpoint['optimizer_state_dict'])\n",
        "        start_epoch = checkpoint['epoch'] + 1\n",
        "        print(f\"Loaded {model_type} from checkpoint. Resuming training from epoch {start_epoch}.\")\n",
        "    except FileNotFoundError:\n",
        "        print(f\"No saved {model_type} found. Starting training from scratch.\")\n",
        "    except Exception as e:\n",
        "        print(f\"Error loading {model_type} checkpoint: {e}. Starting training from scratch.\")\n",
        "\n",
        "    for epoch in range(start_epoch, start_epoch + num_epochs):\n",
        "        train_function(model, trainloader, criterion, optimizer, epoch)\n",
        "        evaluate_model(model, testloader)\n",
        "        torch.save({\n",
        "            'epoch': epoch,\n",
        "            'model_state_dict': model.state_dict(),\n",
        "            'optimizer_state_dict': optimizer.state_dict(),\n",
        "        }, model_save_path)\n",
        "        print(f\"{model_type} saved at epoch {epoch+1} to {model_save_path}\")\n",
        "\n",
        "    print(f\"\\n--- Finished {model_type} Training ---\\n\")"
      ]
    },
    {
      "cell_type": "code",
      "source": [
        "# Baseline Training\n",
        "run_training(num_epochs=10, learning_rate=0.001)"
      ],
      "metadata": {
        "id": "aWtosRAhpEMC",
        "colab": {
          "base_uri": "https://localhost:8080/"
        },
        "outputId": "af7194b8-8723-4f5b-9dff-590228a23d04"
      },
      "execution_count": null,
      "outputs": [
        {
          "output_type": "stream",
          "name": "stdout",
          "text": [
            "--- Starting Baseline Model Training ---\n",
            "Loaded Baseline Model from checkpoint. Resuming training from epoch 20.\n"
          ]
        },
        {
          "output_type": "stream",
          "name": "stderr",
          "text": [
            "Epoch 21 [Baseline Training]: 100%|██████████| 782/782 [01:40<00:00,  7.77it/s]\n"
          ]
        },
        {
          "output_type": "stream",
          "name": "stdout",
          "text": [
            "Loss: 0.909\n",
            "Accuracy: 74.38 %\n",
            "Baseline Model saved at epoch 21 to baseline_model_checkpoint.pth\n"
          ]
        },
        {
          "output_type": "stream",
          "name": "stderr",
          "text": [
            "Epoch 22 [Baseline Training]: 100%|██████████| 782/782 [01:40<00:00,  7.77it/s]\n"
          ]
        },
        {
          "output_type": "stream",
          "name": "stdout",
          "text": [
            "Loss: 0.893\n",
            "Accuracy: 73.88 %\n",
            "Baseline Model saved at epoch 22 to baseline_model_checkpoint.pth\n"
          ]
        },
        {
          "output_type": "stream",
          "name": "stderr",
          "text": [
            "Epoch 23 [Baseline Training]: 100%|██████████| 782/782 [01:41<00:00,  7.70it/s]\n"
          ]
        },
        {
          "output_type": "stream",
          "name": "stdout",
          "text": [
            "Loss: 0.893\n",
            "Accuracy: 74.41 %\n",
            "Baseline Model saved at epoch 23 to baseline_model_checkpoint.pth\n"
          ]
        },
        {
          "output_type": "stream",
          "name": "stderr",
          "text": [
            "Epoch 24 [Baseline Training]: 100%|██████████| 782/782 [01:40<00:00,  7.79it/s]\n"
          ]
        },
        {
          "output_type": "stream",
          "name": "stdout",
          "text": [
            "Loss: 0.890\n",
            "Accuracy: 74.61 %\n",
            "Baseline Model saved at epoch 24 to baseline_model_checkpoint.pth\n"
          ]
        },
        {
          "output_type": "stream",
          "name": "stderr",
          "text": [
            "Epoch 25 [Baseline Training]: 100%|██████████| 782/782 [01:40<00:00,  7.76it/s]\n"
          ]
        },
        {
          "output_type": "stream",
          "name": "stdout",
          "text": [
            "Loss: 0.888\n",
            "Accuracy: 75.73 %\n",
            "Baseline Model saved at epoch 25 to baseline_model_checkpoint.pth\n"
          ]
        },
        {
          "output_type": "stream",
          "name": "stderr",
          "text": [
            "Epoch 26 [Baseline Training]: 100%|██████████| 782/782 [01:40<00:00,  7.81it/s]\n"
          ]
        },
        {
          "output_type": "stream",
          "name": "stdout",
          "text": [
            "Loss: 0.881\n",
            "Accuracy: 75.59 %\n",
            "Baseline Model saved at epoch 26 to baseline_model_checkpoint.pth\n"
          ]
        },
        {
          "output_type": "stream",
          "name": "stderr",
          "text": [
            "Epoch 27 [Baseline Training]: 100%|██████████| 782/782 [01:40<00:00,  7.77it/s]\n"
          ]
        },
        {
          "output_type": "stream",
          "name": "stdout",
          "text": [
            "Loss: 0.872\n",
            "Accuracy: 74.47 %\n",
            "Baseline Model saved at epoch 27 to baseline_model_checkpoint.pth\n"
          ]
        },
        {
          "output_type": "stream",
          "name": "stderr",
          "text": [
            "Epoch 28 [Baseline Training]: 100%|██████████| 782/782 [01:41<00:00,  7.74it/s]\n"
          ]
        },
        {
          "output_type": "stream",
          "name": "stdout",
          "text": [
            "Loss: 0.864\n",
            "Accuracy: 75.91 %\n",
            "Baseline Model saved at epoch 28 to baseline_model_checkpoint.pth\n"
          ]
        },
        {
          "output_type": "stream",
          "name": "stderr",
          "text": [
            "Epoch 29 [Baseline Training]: 100%|██████████| 782/782 [01:40<00:00,  7.77it/s]\n"
          ]
        },
        {
          "output_type": "stream",
          "name": "stdout",
          "text": [
            "Loss: 0.870\n",
            "Accuracy: 75.65 %\n",
            "Baseline Model saved at epoch 29 to baseline_model_checkpoint.pth\n"
          ]
        },
        {
          "output_type": "stream",
          "name": "stderr",
          "text": [
            "Epoch 30 [Baseline Training]: 100%|██████████| 782/782 [01:40<00:00,  7.75it/s]\n"
          ]
        },
        {
          "output_type": "stream",
          "name": "stdout",
          "text": [
            "Loss: 0.858\n",
            "Accuracy: 76.02 %\n",
            "Baseline Model saved at epoch 30 to baseline_model_checkpoint.pth\n",
            "\n",
            "--- Finished Baseline Model Training ---\n",
            "\n"
          ]
        }
      ]
    },
    {
      "cell_type": "code",
      "source": [
        "# R-Drop Training (alpha=0.4)\n",
        "run_training(num_epochs=30, learning_rate=0.001, alpha=0.4)"
      ],
      "metadata": {
        "id": "hlrduSAFq1Py",
        "colab": {
          "base_uri": "https://localhost:8080/"
        },
        "outputId": "cbadc3dd-9278-4e66-b324-785f9fc12e43"
      },
      "execution_count": null,
      "outputs": [
        {
          "output_type": "stream",
          "name": "stdout",
          "text": [
            "--- Starting R-Drop Model 0.4 Training ---\n",
            "No saved R-Drop Model 0.4 found. Starting training from scratch.\n"
          ]
        },
        {
          "output_type": "stream",
          "name": "stderr",
          "text": [
            "Epoch 1 [R-Drop Training]: 100%|██████████| 782/782 [02:52<00:00,  4.53it/s]\n"
          ]
        },
        {
          "output_type": "stream",
          "name": "stdout",
          "text": [
            "Loss: 1.705\n",
            "Accuracy: 53.89 %\n",
            "R-Drop Model 0.4 saved at epoch 1 to rdrop_model_0.4_checkpoint.pth\n"
          ]
        },
        {
          "output_type": "stream",
          "name": "stderr",
          "text": [
            "Epoch 2 [R-Drop Training]: 100%|██████████| 782/782 [02:54<00:00,  4.47it/s]\n"
          ]
        },
        {
          "output_type": "stream",
          "name": "stdout",
          "text": [
            "Loss: 1.450\n",
            "Accuracy: 58.71 %\n",
            "R-Drop Model 0.4 saved at epoch 2 to rdrop_model_0.4_checkpoint.pth\n"
          ]
        },
        {
          "output_type": "stream",
          "name": "stderr",
          "text": [
            "Epoch 3 [R-Drop Training]: 100%|██████████| 782/782 [02:53<00:00,  4.51it/s]\n"
          ]
        },
        {
          "output_type": "stream",
          "name": "stdout",
          "text": [
            "Loss: 1.353\n",
            "Accuracy: 62.32 %\n",
            "R-Drop Model 0.4 saved at epoch 3 to rdrop_model_0.4_checkpoint.pth\n"
          ]
        },
        {
          "output_type": "stream",
          "name": "stderr",
          "text": [
            "Epoch 4 [R-Drop Training]: 100%|██████████| 782/782 [02:52<00:00,  4.53it/s]\n"
          ]
        },
        {
          "output_type": "stream",
          "name": "stdout",
          "text": [
            "Loss: 1.299\n",
            "Accuracy: 63.72 %\n",
            "R-Drop Model 0.4 saved at epoch 4 to rdrop_model_0.4_checkpoint.pth\n"
          ]
        },
        {
          "output_type": "stream",
          "name": "stderr",
          "text": [
            "Epoch 5 [R-Drop Training]: 100%|██████████| 782/782 [02:53<00:00,  4.51it/s]\n"
          ]
        },
        {
          "output_type": "stream",
          "name": "stdout",
          "text": [
            "Loss: 1.245\n",
            "Accuracy: 65.04 %\n",
            "R-Drop Model 0.4 saved at epoch 5 to rdrop_model_0.4_checkpoint.pth\n"
          ]
        },
        {
          "output_type": "stream",
          "name": "stderr",
          "text": [
            "Epoch 6 [R-Drop Training]: 100%|██████████| 782/782 [02:54<00:00,  4.48it/s]\n"
          ]
        },
        {
          "output_type": "stream",
          "name": "stdout",
          "text": [
            "Loss: 1.214\n",
            "Accuracy: 66.90 %\n",
            "R-Drop Model 0.4 saved at epoch 6 to rdrop_model_0.4_checkpoint.pth\n"
          ]
        },
        {
          "output_type": "stream",
          "name": "stderr",
          "text": [
            "Epoch 7 [R-Drop Training]: 100%|██████████| 782/782 [02:51<00:00,  4.55it/s]\n"
          ]
        },
        {
          "output_type": "stream",
          "name": "stdout",
          "text": [
            "Loss: 1.187\n",
            "Accuracy: 67.67 %\n",
            "R-Drop Model 0.4 saved at epoch 7 to rdrop_model_0.4_checkpoint.pth\n"
          ]
        },
        {
          "output_type": "stream",
          "name": "stderr",
          "text": [
            "Epoch 8 [R-Drop Training]: 100%|██████████| 782/782 [02:51<00:00,  4.56it/s]\n"
          ]
        },
        {
          "output_type": "stream",
          "name": "stdout",
          "text": [
            "Loss: 1.161\n",
            "Accuracy: 67.12 %\n",
            "R-Drop Model 0.4 saved at epoch 8 to rdrop_model_0.4_checkpoint.pth\n"
          ]
        },
        {
          "output_type": "stream",
          "name": "stderr",
          "text": [
            "Epoch 9 [R-Drop Training]: 100%|██████████| 782/782 [02:50<00:00,  4.58it/s]\n"
          ]
        },
        {
          "output_type": "stream",
          "name": "stdout",
          "text": [
            "Loss: 1.139\n",
            "Accuracy: 69.06 %\n",
            "R-Drop Model 0.4 saved at epoch 9 to rdrop_model_0.4_checkpoint.pth\n"
          ]
        },
        {
          "output_type": "stream",
          "name": "stderr",
          "text": [
            "Epoch 10 [R-Drop Training]: 100%|██████████| 782/782 [02:50<00:00,  4.57it/s]\n"
          ]
        },
        {
          "output_type": "stream",
          "name": "stdout",
          "text": [
            "Loss: 1.121\n",
            "Accuracy: 70.31 %\n",
            "R-Drop Model 0.4 saved at epoch 10 to rdrop_model_0.4_checkpoint.pth\n"
          ]
        },
        {
          "output_type": "stream",
          "name": "stderr",
          "text": [
            "Epoch 11 [R-Drop Training]: 100%|██████████| 782/782 [02:50<00:00,  4.59it/s]\n"
          ]
        },
        {
          "output_type": "stream",
          "name": "stdout",
          "text": [
            "Loss: 1.101\n",
            "Accuracy: 69.25 %\n",
            "R-Drop Model 0.4 saved at epoch 11 to rdrop_model_0.4_checkpoint.pth\n"
          ]
        },
        {
          "output_type": "stream",
          "name": "stderr",
          "text": [
            "Epoch 12 [R-Drop Training]: 100%|██████████| 782/782 [02:50<00:00,  4.59it/s]\n"
          ]
        },
        {
          "output_type": "stream",
          "name": "stdout",
          "text": [
            "Loss: 1.082\n",
            "Accuracy: 71.75 %\n",
            "R-Drop Model 0.4 saved at epoch 12 to rdrop_model_0.4_checkpoint.pth\n"
          ]
        },
        {
          "output_type": "stream",
          "name": "stderr",
          "text": [
            "Epoch 13 [R-Drop Training]: 100%|██████████| 782/782 [02:50<00:00,  4.59it/s]\n"
          ]
        },
        {
          "output_type": "stream",
          "name": "stdout",
          "text": [
            "Loss: 1.067\n",
            "Accuracy: 71.91 %\n",
            "R-Drop Model 0.4 saved at epoch 13 to rdrop_model_0.4_checkpoint.pth\n"
          ]
        },
        {
          "output_type": "stream",
          "name": "stderr",
          "text": [
            "Epoch 14 [R-Drop Training]: 100%|██████████| 782/782 [02:49<00:00,  4.61it/s]\n"
          ]
        },
        {
          "output_type": "stream",
          "name": "stdout",
          "text": [
            "Loss: 1.054\n",
            "Accuracy: 72.53 %\n",
            "R-Drop Model 0.4 saved at epoch 14 to rdrop_model_0.4_checkpoint.pth\n"
          ]
        },
        {
          "output_type": "stream",
          "name": "stderr",
          "text": [
            "Epoch 15 [R-Drop Training]: 100%|██████████| 782/782 [02:49<00:00,  4.60it/s]\n"
          ]
        },
        {
          "output_type": "stream",
          "name": "stdout",
          "text": [
            "Loss: 1.030\n",
            "Accuracy: 72.62 %\n",
            "R-Drop Model 0.4 saved at epoch 15 to rdrop_model_0.4_checkpoint.pth\n"
          ]
        },
        {
          "output_type": "stream",
          "name": "stderr",
          "text": [
            "Epoch 16 [R-Drop Training]: 100%|██████████| 782/782 [02:51<00:00,  4.56it/s]\n"
          ]
        },
        {
          "output_type": "stream",
          "name": "stdout",
          "text": [
            "Loss: 1.024\n",
            "Accuracy: 72.69 %\n",
            "R-Drop Model 0.4 saved at epoch 16 to rdrop_model_0.4_checkpoint.pth\n"
          ]
        },
        {
          "output_type": "stream",
          "name": "stderr",
          "text": [
            "Epoch 17 [R-Drop Training]: 100%|██████████| 782/782 [02:49<00:00,  4.61it/s]\n"
          ]
        },
        {
          "output_type": "stream",
          "name": "stdout",
          "text": [
            "Loss: 1.013\n",
            "Accuracy: 72.95 %\n",
            "R-Drop Model 0.4 saved at epoch 17 to rdrop_model_0.4_checkpoint.pth\n"
          ]
        },
        {
          "output_type": "stream",
          "name": "stderr",
          "text": [
            "Epoch 18 [R-Drop Training]: 100%|██████████| 782/782 [02:48<00:00,  4.63it/s]\n"
          ]
        },
        {
          "output_type": "stream",
          "name": "stdout",
          "text": [
            "Loss: 1.005\n",
            "Accuracy: 71.36 %\n",
            "R-Drop Model 0.4 saved at epoch 18 to rdrop_model_0.4_checkpoint.pth\n"
          ]
        },
        {
          "output_type": "stream",
          "name": "stderr",
          "text": [
            "Epoch 19 [R-Drop Training]: 100%|██████████| 782/782 [02:49<00:00,  4.61it/s]\n"
          ]
        },
        {
          "output_type": "stream",
          "name": "stdout",
          "text": [
            "Loss: 0.994\n",
            "Accuracy: 73.64 %\n",
            "R-Drop Model 0.4 saved at epoch 19 to rdrop_model_0.4_checkpoint.pth\n"
          ]
        },
        {
          "output_type": "stream",
          "name": "stderr",
          "text": [
            "Epoch 20 [R-Drop Training]: 100%|██████████| 782/782 [02:48<00:00,  4.63it/s]\n"
          ]
        },
        {
          "output_type": "stream",
          "name": "stdout",
          "text": [
            "Loss: 0.987\n",
            "Accuracy: 73.46 %\n",
            "R-Drop Model 0.4 saved at epoch 20 to rdrop_model_0.4_checkpoint.pth\n"
          ]
        },
        {
          "output_type": "stream",
          "name": "stderr",
          "text": [
            "Epoch 21 [R-Drop Training]: 100%|██████████| 782/782 [02:49<00:00,  4.61it/s]\n"
          ]
        },
        {
          "output_type": "stream",
          "name": "stdout",
          "text": [
            "Loss: 0.980\n",
            "Accuracy: 73.84 %\n",
            "R-Drop Model 0.4 saved at epoch 21 to rdrop_model_0.4_checkpoint.pth\n"
          ]
        },
        {
          "output_type": "stream",
          "name": "stderr",
          "text": [
            "Epoch 22 [R-Drop Training]: 100%|██████████| 782/782 [02:49<00:00,  4.61it/s]\n"
          ]
        },
        {
          "output_type": "stream",
          "name": "stdout",
          "text": [
            "Loss: 0.973\n",
            "Accuracy: 74.16 %\n",
            "R-Drop Model 0.4 saved at epoch 22 to rdrop_model_0.4_checkpoint.pth\n"
          ]
        },
        {
          "output_type": "stream",
          "name": "stderr",
          "text": [
            "Epoch 23 [R-Drop Training]: 100%|██████████| 782/782 [02:49<00:00,  4.62it/s]\n"
          ]
        },
        {
          "output_type": "stream",
          "name": "stdout",
          "text": [
            "Loss: 0.962\n",
            "Accuracy: 74.56 %\n",
            "R-Drop Model 0.4 saved at epoch 23 to rdrop_model_0.4_checkpoint.pth\n"
          ]
        },
        {
          "output_type": "stream",
          "name": "stderr",
          "text": [
            "Epoch 24 [R-Drop Training]: 100%|██████████| 782/782 [02:48<00:00,  4.63it/s]\n"
          ]
        },
        {
          "output_type": "stream",
          "name": "stdout",
          "text": [
            "Loss: 0.959\n",
            "Accuracy: 74.79 %\n",
            "R-Drop Model 0.4 saved at epoch 24 to rdrop_model_0.4_checkpoint.pth\n"
          ]
        },
        {
          "output_type": "stream",
          "name": "stderr",
          "text": [
            "Epoch 25 [R-Drop Training]: 100%|██████████| 782/782 [02:49<00:00,  4.63it/s]\n"
          ]
        },
        {
          "output_type": "stream",
          "name": "stdout",
          "text": [
            "Loss: 0.949\n",
            "Accuracy: 74.74 %\n",
            "R-Drop Model 0.4 saved at epoch 25 to rdrop_model_0.4_checkpoint.pth\n"
          ]
        },
        {
          "output_type": "stream",
          "name": "stderr",
          "text": [
            "Epoch 26 [R-Drop Training]: 100%|██████████| 782/782 [02:50<00:00,  4.59it/s]\n"
          ]
        },
        {
          "output_type": "stream",
          "name": "stdout",
          "text": [
            "Loss: 0.943\n",
            "Accuracy: 74.06 %\n",
            "R-Drop Model 0.4 saved at epoch 26 to rdrop_model_0.4_checkpoint.pth\n"
          ]
        },
        {
          "output_type": "stream",
          "name": "stderr",
          "text": [
            "Epoch 27 [R-Drop Training]: 100%|██████████| 782/782 [02:48<00:00,  4.63it/s]\n"
          ]
        },
        {
          "output_type": "stream",
          "name": "stdout",
          "text": [
            "Loss: 0.941\n",
            "Accuracy: 74.91 %\n",
            "R-Drop Model 0.4 saved at epoch 27 to rdrop_model_0.4_checkpoint.pth\n"
          ]
        },
        {
          "output_type": "stream",
          "name": "stderr",
          "text": [
            "Epoch 28 [R-Drop Training]: 100%|██████████| 782/782 [02:49<00:00,  4.61it/s]\n"
          ]
        },
        {
          "output_type": "stream",
          "name": "stdout",
          "text": [
            "Loss: 0.934\n",
            "Accuracy: 76.16 %\n",
            "R-Drop Model 0.4 saved at epoch 28 to rdrop_model_0.4_checkpoint.pth\n"
          ]
        },
        {
          "output_type": "stream",
          "name": "stderr",
          "text": [
            "Epoch 29 [R-Drop Training]: 100%|██████████| 782/782 [02:50<00:00,  4.58it/s]\n"
          ]
        },
        {
          "output_type": "stream",
          "name": "stdout",
          "text": [
            "Loss: 0.930\n",
            "Accuracy: 74.59 %\n",
            "R-Drop Model 0.4 saved at epoch 29 to rdrop_model_0.4_checkpoint.pth\n"
          ]
        },
        {
          "output_type": "stream",
          "name": "stderr",
          "text": [
            "Epoch 30 [R-Drop Training]: 100%|██████████| 782/782 [02:49<00:00,  4.61it/s]\n"
          ]
        },
        {
          "output_type": "stream",
          "name": "stdout",
          "text": [
            "Loss: 0.928\n",
            "Accuracy: 75.36 %\n",
            "R-Drop Model 0.4 saved at epoch 30 to rdrop_model_0.4_checkpoint.pth\n",
            "\n",
            "--- Finished R-Drop Model 0.4 Training ---\n",
            "\n"
          ]
        }
      ]
    },
    {
      "cell_type": "code",
      "source": [
        "# R-Drop Training (alpha=0.6)\n",
        "run_training(num_epochs=30, learning_rate=0.001, alpha=0.6)"
      ],
      "metadata": {
        "id": "77yPJThFq8z8",
        "colab": {
          "base_uri": "https://localhost:8080/"
        },
        "collapsed": true,
        "outputId": "1636f45b-03f3-41b1-b0bb-d0a0370973e5"
      },
      "execution_count": null,
      "outputs": [
        {
          "metadata": {
            "tags": null
          },
          "name": "stdout",
          "output_type": "stream",
          "text": [
            "--- Starting R-Drop Model 0.6 Training ---\n",
            "No saved R-Drop Model 0.6 found. Starting training from scratch.\n"
          ]
        },
        {
          "metadata": {
            "tags": null
          },
          "name": "stderr",
          "output_type": "stream",
          "text": [
            "Epoch 1 [R-Drop Training]: 100%|██████████| 782/782 [02:50<00:00,  4.58it/s]\n"
          ]
        },
        {
          "metadata": {
            "tags": null
          },
          "name": "stdout",
          "output_type": "stream",
          "text": [
            "Loss: 1.782\n",
            "Accuracy: 50.83 %\n",
            "R-Drop Model 0.6 saved at epoch 1 to rdrop_model_0.6_checkpoint.pth\n"
          ]
        },
        {
          "metadata": {
            "tags": null
          },
          "name": "stderr",
          "output_type": "stream",
          "text": [
            "Epoch 2 [R-Drop Training]: 100%|██████████| 782/782 [02:52<00:00,  4.52it/s]\n"
          ]
        },
        {
          "metadata": {
            "tags": null
          },
          "name": "stdout",
          "output_type": "stream",
          "text": [
            "Loss: 1.546\n",
            "Accuracy: 56.20 %\n",
            "R-Drop Model 0.6 saved at epoch 2 to rdrop_model_0.6_checkpoint.pth\n"
          ]
        },
        {
          "output_type": "stream",
          "name": "stderr",
          "text": [
            "Epoch 3 [R-Drop Training]: 100%|██████████| 782/782 [02:51<00:00,  4.56it/s]\n"
          ]
        },
        {
          "output_type": "stream",
          "name": "stdout",
          "text": [
            "Loss: 1.456\n",
            "Accuracy: 59.64 %\n",
            "R-Drop Model 0.6 saved at epoch 3 to rdrop_model_0.6_checkpoint.pth\n"
          ]
        },
        {
          "output_type": "stream",
          "name": "stderr",
          "text": [
            "Epoch 4 [R-Drop Training]: 100%|██████████| 782/782 [02:52<00:00,  4.54it/s]\n"
          ]
        },
        {
          "output_type": "stream",
          "name": "stdout",
          "text": [
            "Loss: 1.388\n",
            "Accuracy: 63.53 %\n",
            "R-Drop Model 0.6 saved at epoch 4 to rdrop_model_0.6_checkpoint.pth\n"
          ]
        },
        {
          "output_type": "stream",
          "name": "stderr",
          "text": [
            "Epoch 5 [R-Drop Training]: 100%|██████████| 782/782 [02:50<00:00,  4.58it/s]\n"
          ]
        },
        {
          "output_type": "stream",
          "name": "stdout",
          "text": [
            "Loss: 1.343\n",
            "Accuracy: 63.57 %\n",
            "R-Drop Model 0.6 saved at epoch 5 to rdrop_model_0.6_checkpoint.pth\n"
          ]
        },
        {
          "output_type": "stream",
          "name": "stderr",
          "text": [
            "Epoch 6 [R-Drop Training]: 100%|██████████| 782/782 [02:52<00:00,  4.55it/s]\n"
          ]
        },
        {
          "output_type": "stream",
          "name": "stdout",
          "text": [
            "Loss: 1.315\n",
            "Accuracy: 65.55 %\n",
            "R-Drop Model 0.6 saved at epoch 6 to rdrop_model_0.6_checkpoint.pth\n"
          ]
        },
        {
          "output_type": "stream",
          "name": "stderr",
          "text": [
            "Epoch 7 [R-Drop Training]: 100%|██████████| 782/782 [02:51<00:00,  4.57it/s]\n"
          ]
        },
        {
          "output_type": "stream",
          "name": "stdout",
          "text": [
            "Loss: 1.288\n",
            "Accuracy: 65.50 %\n",
            "R-Drop Model 0.6 saved at epoch 7 to rdrop_model_0.6_checkpoint.pth\n"
          ]
        },
        {
          "output_type": "stream",
          "name": "stderr",
          "text": [
            "Epoch 8 [R-Drop Training]: 100%|██████████| 782/782 [02:49<00:00,  4.61it/s]\n"
          ]
        },
        {
          "output_type": "stream",
          "name": "stdout",
          "text": [
            "Loss: 1.272\n",
            "Accuracy: 67.11 %\n",
            "R-Drop Model 0.6 saved at epoch 8 to rdrop_model_0.6_checkpoint.pth\n"
          ]
        },
        {
          "output_type": "stream",
          "name": "stderr",
          "text": [
            "Epoch 9 [R-Drop Training]: 100%|██████████| 782/782 [02:51<00:00,  4.56it/s]\n"
          ]
        },
        {
          "output_type": "stream",
          "name": "stdout",
          "text": [
            "Loss: 1.232\n",
            "Accuracy: 67.25 %\n",
            "R-Drop Model 0.6 saved at epoch 9 to rdrop_model_0.6_checkpoint.pth\n"
          ]
        },
        {
          "output_type": "stream",
          "name": "stderr",
          "text": [
            "Epoch 10 [R-Drop Training]: 100%|██████████| 782/782 [02:50<00:00,  4.59it/s]\n"
          ]
        },
        {
          "output_type": "stream",
          "name": "stdout",
          "text": [
            "Loss: 1.209\n",
            "Accuracy: 68.23 %\n",
            "R-Drop Model 0.6 saved at epoch 10 to rdrop_model_0.6_checkpoint.pth\n"
          ]
        },
        {
          "output_type": "stream",
          "name": "stderr",
          "text": [
            "Epoch 11 [R-Drop Training]: 100%|██████████| 782/782 [02:49<00:00,  4.62it/s]\n"
          ]
        },
        {
          "output_type": "stream",
          "name": "stdout",
          "text": [
            "Loss: 1.190\n",
            "Accuracy: 67.53 %\n",
            "R-Drop Model 0.6 saved at epoch 11 to rdrop_model_0.6_checkpoint.pth\n"
          ]
        },
        {
          "output_type": "stream",
          "name": "stderr",
          "text": [
            "Epoch 12 [R-Drop Training]: 100%|██████████| 782/782 [02:49<00:00,  4.62it/s]\n"
          ]
        },
        {
          "output_type": "stream",
          "name": "stdout",
          "text": [
            "Loss: 1.181\n",
            "Accuracy: 70.37 %\n",
            "R-Drop Model 0.6 saved at epoch 12 to rdrop_model_0.6_checkpoint.pth\n"
          ]
        },
        {
          "output_type": "stream",
          "name": "stderr",
          "text": [
            "Epoch 13 [R-Drop Training]: 100%|██████████| 782/782 [02:49<00:00,  4.63it/s]\n"
          ]
        },
        {
          "output_type": "stream",
          "name": "stdout",
          "text": [
            "Loss: 1.158\n",
            "Accuracy: 70.36 %\n",
            "R-Drop Model 0.6 saved at epoch 13 to rdrop_model_0.6_checkpoint.pth\n"
          ]
        },
        {
          "output_type": "stream",
          "name": "stderr",
          "text": [
            "Epoch 14 [R-Drop Training]: 100%|██████████| 782/782 [02:49<00:00,  4.61it/s]\n"
          ]
        },
        {
          "output_type": "stream",
          "name": "stdout",
          "text": [
            "Loss: 1.152\n",
            "Accuracy: 70.09 %\n",
            "R-Drop Model 0.6 saved at epoch 14 to rdrop_model_0.6_checkpoint.pth\n"
          ]
        },
        {
          "output_type": "stream",
          "name": "stderr",
          "text": [
            "Epoch 15 [R-Drop Training]: 100%|██████████| 782/782 [02:49<00:00,  4.61it/s]\n"
          ]
        },
        {
          "output_type": "stream",
          "name": "stdout",
          "text": [
            "Loss: 1.142\n",
            "Accuracy: 70.29 %\n",
            "R-Drop Model 0.6 saved at epoch 15 to rdrop_model_0.6_checkpoint.pth\n"
          ]
        },
        {
          "output_type": "stream",
          "name": "stderr",
          "text": [
            "Epoch 16 [R-Drop Training]: 100%|██████████| 782/782 [02:49<00:00,  4.60it/s]\n"
          ]
        },
        {
          "output_type": "stream",
          "name": "stdout",
          "text": [
            "Loss: 1.128\n",
            "Accuracy: 70.96 %\n",
            "R-Drop Model 0.6 saved at epoch 16 to rdrop_model_0.6_checkpoint.pth\n"
          ]
        },
        {
          "output_type": "stream",
          "name": "stderr",
          "text": [
            "Epoch 17 [R-Drop Training]: 100%|██████████| 782/782 [02:48<00:00,  4.63it/s]\n"
          ]
        },
        {
          "output_type": "stream",
          "name": "stdout",
          "text": [
            "Loss: 1.110\n",
            "Accuracy: 71.41 %\n",
            "R-Drop Model 0.6 saved at epoch 17 to rdrop_model_0.6_checkpoint.pth\n"
          ]
        },
        {
          "output_type": "stream",
          "name": "stderr",
          "text": [
            "Epoch 18 [R-Drop Training]: 100%|██████████| 782/782 [02:49<00:00,  4.60it/s]\n"
          ]
        },
        {
          "output_type": "stream",
          "name": "stdout",
          "text": [
            "Loss: 1.102\n",
            "Accuracy: 72.11 %\n",
            "R-Drop Model 0.6 saved at epoch 18 to rdrop_model_0.6_checkpoint.pth\n"
          ]
        },
        {
          "output_type": "stream",
          "name": "stderr",
          "text": [
            "Epoch 19 [R-Drop Training]: 100%|██████████| 782/782 [02:50<00:00,  4.59it/s]\n"
          ]
        },
        {
          "output_type": "stream",
          "name": "stdout",
          "text": [
            "Loss: 1.097\n",
            "Accuracy: 71.12 %\n",
            "R-Drop Model 0.6 saved at epoch 19 to rdrop_model_0.6_checkpoint.pth\n"
          ]
        },
        {
          "output_type": "stream",
          "name": "stderr",
          "text": [
            "Epoch 20 [R-Drop Training]: 100%|██████████| 782/782 [02:48<00:00,  4.63it/s]\n"
          ]
        },
        {
          "output_type": "stream",
          "name": "stdout",
          "text": [
            "Loss: 1.085\n",
            "Accuracy: 72.52 %\n",
            "R-Drop Model 0.6 saved at epoch 20 to rdrop_model_0.6_checkpoint.pth\n"
          ]
        },
        {
          "output_type": "stream",
          "name": "stderr",
          "text": [
            "Epoch 21 [R-Drop Training]: 100%|██████████| 782/782 [02:47<00:00,  4.66it/s]\n"
          ]
        },
        {
          "output_type": "stream",
          "name": "stdout",
          "text": [
            "Loss: 1.077\n",
            "Accuracy: 72.39 %\n",
            "R-Drop Model 0.6 saved at epoch 21 to rdrop_model_0.6_checkpoint.pth\n"
          ]
        },
        {
          "output_type": "stream",
          "name": "stderr",
          "text": [
            "Epoch 22 [R-Drop Training]: 100%|██████████| 782/782 [02:49<00:00,  4.63it/s]\n"
          ]
        },
        {
          "output_type": "stream",
          "name": "stdout",
          "text": [
            "Loss: 1.073\n",
            "Accuracy: 72.37 %\n",
            "R-Drop Model 0.6 saved at epoch 22 to rdrop_model_0.6_checkpoint.pth\n"
          ]
        },
        {
          "output_type": "stream",
          "name": "stderr",
          "text": [
            "Epoch 23 [R-Drop Training]: 100%|██████████| 782/782 [02:48<00:00,  4.65it/s]\n"
          ]
        },
        {
          "output_type": "stream",
          "name": "stdout",
          "text": [
            "Loss: 1.068\n",
            "Accuracy: 72.99 %\n",
            "R-Drop Model 0.6 saved at epoch 23 to rdrop_model_0.6_checkpoint.pth\n"
          ]
        },
        {
          "output_type": "stream",
          "name": "stderr",
          "text": [
            "Epoch 24 [R-Drop Training]: 100%|██████████| 782/782 [02:47<00:00,  4.67it/s]\n"
          ]
        },
        {
          "output_type": "stream",
          "name": "stdout",
          "text": [
            "Loss: 1.049\n",
            "Accuracy: 73.53 %\n",
            "R-Drop Model 0.6 saved at epoch 24 to rdrop_model_0.6_checkpoint.pth\n"
          ]
        },
        {
          "output_type": "stream",
          "name": "stderr",
          "text": [
            "Epoch 25 [R-Drop Training]: 100%|██████████| 782/782 [02:46<00:00,  4.69it/s]\n"
          ]
        },
        {
          "output_type": "stream",
          "name": "stdout",
          "text": [
            "Loss: 1.055\n",
            "Accuracy: 72.74 %\n",
            "R-Drop Model 0.6 saved at epoch 25 to rdrop_model_0.6_checkpoint.pth\n"
          ]
        },
        {
          "output_type": "stream",
          "name": "stderr",
          "text": [
            "Epoch 26 [R-Drop Training]: 100%|██████████| 782/782 [02:47<00:00,  4.68it/s]\n"
          ]
        },
        {
          "output_type": "stream",
          "name": "stdout",
          "text": [
            "Loss: 1.043\n",
            "Accuracy: 72.80 %\n",
            "R-Drop Model 0.6 saved at epoch 26 to rdrop_model_0.6_checkpoint.pth\n"
          ]
        },
        {
          "output_type": "stream",
          "name": "stderr",
          "text": [
            "Epoch 27 [R-Drop Training]: 100%|██████████| 782/782 [02:46<00:00,  4.69it/s]\n"
          ]
        },
        {
          "output_type": "stream",
          "name": "stdout",
          "text": [
            "Loss: 1.042\n",
            "Accuracy: 72.94 %\n",
            "R-Drop Model 0.6 saved at epoch 27 to rdrop_model_0.6_checkpoint.pth\n"
          ]
        },
        {
          "output_type": "stream",
          "name": "stderr",
          "text": [
            "Epoch 28 [R-Drop Training]: 100%|██████████| 782/782 [02:46<00:00,  4.69it/s]\n"
          ]
        },
        {
          "output_type": "stream",
          "name": "stdout",
          "text": [
            "Loss: 1.033\n",
            "Accuracy: 73.08 %\n",
            "R-Drop Model 0.6 saved at epoch 28 to rdrop_model_0.6_checkpoint.pth\n"
          ]
        },
        {
          "output_type": "stream",
          "name": "stderr",
          "text": [
            "Epoch 29 [R-Drop Training]: 100%|██████████| 782/782 [02:46<00:00,  4.69it/s]\n"
          ]
        },
        {
          "output_type": "stream",
          "name": "stdout",
          "text": [
            "Loss: 1.033\n",
            "Accuracy: 73.06 %\n",
            "R-Drop Model 0.6 saved at epoch 29 to rdrop_model_0.6_checkpoint.pth\n"
          ]
        },
        {
          "output_type": "stream",
          "name": "stderr",
          "text": [
            "Epoch 30 [R-Drop Training]: 100%|██████████| 782/782 [02:46<00:00,  4.70it/s]\n"
          ]
        },
        {
          "output_type": "stream",
          "name": "stdout",
          "text": [
            "Loss: 1.021\n",
            "Accuracy: 72.94 %\n",
            "R-Drop Model 0.6 saved at epoch 30 to rdrop_model_0.6_checkpoint.pth\n",
            "\n",
            "--- Finished R-Drop Model 0.6 Training ---\n",
            "\n"
          ]
        }
      ]
    },
    {
      "cell_type": "code",
      "source": [
        "# R-Drop Training (alpha=0.8)\n",
        "run_training(num_epochs=30, learning_rate=0.001, alpha=0.8)"
      ],
      "metadata": {
        "id": "bX2rj8Meq-_z",
        "colab": {
          "base_uri": "https://localhost:8080/"
        },
        "outputId": "edc29543-8cf2-4452-bcc5-1eaa33c92878"
      },
      "execution_count": null,
      "outputs": [
        {
          "output_type": "stream",
          "name": "stdout",
          "text": [
            "--- Starting R-Drop Model 0.8 Training ---\n",
            "No saved R-Drop Model 0.8 found. Starting training from scratch.\n"
          ]
        },
        {
          "output_type": "stream",
          "name": "stderr",
          "text": [
            "Epoch 1 [R-Drop Training]: 100%|██████████| 782/782 [02:45<00:00,  4.72it/s]\n"
          ]
        },
        {
          "output_type": "stream",
          "name": "stdout",
          "text": [
            "Loss: 1.743\n",
            "Accuracy: 51.10 %\n",
            "R-Drop Model 0.8 saved at epoch 1 to rdrop_model_0.8_checkpoint.pth\n"
          ]
        },
        {
          "output_type": "stream",
          "name": "stderr",
          "text": [
            "Epoch 2 [R-Drop Training]: 100%|██████████| 782/782 [02:48<00:00,  4.65it/s]\n"
          ]
        },
        {
          "output_type": "stream",
          "name": "stdout",
          "text": [
            "Loss: 1.501\n",
            "Accuracy: 58.40 %\n",
            "R-Drop Model 0.8 saved at epoch 2 to rdrop_model_0.8_checkpoint.pth\n"
          ]
        },
        {
          "output_type": "stream",
          "name": "stderr",
          "text": [
            "Epoch 3 [R-Drop Training]: 100%|██████████| 782/782 [02:48<00:00,  4.65it/s]\n"
          ]
        },
        {
          "output_type": "stream",
          "name": "stdout",
          "text": [
            "Loss: 1.405\n",
            "Accuracy: 61.18 %\n",
            "R-Drop Model 0.8 saved at epoch 3 to rdrop_model_0.8_checkpoint.pth\n"
          ]
        },
        {
          "output_type": "stream",
          "name": "stderr",
          "text": [
            "Epoch 4 [R-Drop Training]: 100%|██████████| 782/782 [02:47<00:00,  4.68it/s]\n"
          ]
        },
        {
          "output_type": "stream",
          "name": "stdout",
          "text": [
            "Loss: 1.346\n",
            "Accuracy: 63.58 %\n",
            "R-Drop Model 0.8 saved at epoch 4 to rdrop_model_0.8_checkpoint.pth\n"
          ]
        },
        {
          "output_type": "stream",
          "name": "stderr",
          "text": [
            "Epoch 5 [R-Drop Training]: 100%|██████████| 782/782 [02:46<00:00,  4.70it/s]\n"
          ]
        },
        {
          "output_type": "stream",
          "name": "stdout",
          "text": [
            "Loss: 1.314\n",
            "Accuracy: 63.78 %\n",
            "R-Drop Model 0.8 saved at epoch 5 to rdrop_model_0.8_checkpoint.pth\n"
          ]
        },
        {
          "output_type": "stream",
          "name": "stderr",
          "text": [
            "Epoch 6 [R-Drop Training]: 100%|██████████| 782/782 [02:46<00:00,  4.70it/s]\n"
          ]
        },
        {
          "output_type": "stream",
          "name": "stdout",
          "text": [
            "Loss: 1.278\n",
            "Accuracy: 65.76 %\n",
            "R-Drop Model 0.8 saved at epoch 6 to rdrop_model_0.8_checkpoint.pth\n"
          ]
        },
        {
          "output_type": "stream",
          "name": "stderr",
          "text": [
            "Epoch 7 [R-Drop Training]: 100%|██████████| 782/782 [02:45<00:00,  4.71it/s]\n"
          ]
        },
        {
          "output_type": "stream",
          "name": "stdout",
          "text": [
            "Loss: 1.257\n",
            "Accuracy: 66.72 %\n",
            "R-Drop Model 0.8 saved at epoch 7 to rdrop_model_0.8_checkpoint.pth\n"
          ]
        },
        {
          "output_type": "stream",
          "name": "stderr",
          "text": [
            "Epoch 8 [R-Drop Training]: 100%|██████████| 782/782 [02:45<00:00,  4.71it/s]\n"
          ]
        },
        {
          "output_type": "stream",
          "name": "stdout",
          "text": [
            "Loss: 1.230\n",
            "Accuracy: 67.39 %\n",
            "R-Drop Model 0.8 saved at epoch 8 to rdrop_model_0.8_checkpoint.pth\n"
          ]
        },
        {
          "output_type": "stream",
          "name": "stderr",
          "text": [
            "Epoch 9 [R-Drop Training]: 100%|██████████| 782/782 [02:45<00:00,  4.72it/s]\n"
          ]
        },
        {
          "output_type": "stream",
          "name": "stdout",
          "text": [
            "Loss: 1.213\n",
            "Accuracy: 67.66 %\n",
            "R-Drop Model 0.8 saved at epoch 9 to rdrop_model_0.8_checkpoint.pth\n"
          ]
        },
        {
          "output_type": "stream",
          "name": "stderr",
          "text": [
            "Epoch 10 [R-Drop Training]: 100%|██████████| 782/782 [02:45<00:00,  4.72it/s]\n"
          ]
        },
        {
          "output_type": "stream",
          "name": "stdout",
          "text": [
            "Loss: 1.194\n",
            "Accuracy: 68.70 %\n",
            "R-Drop Model 0.8 saved at epoch 10 to rdrop_model_0.8_checkpoint.pth\n"
          ]
        },
        {
          "output_type": "stream",
          "name": "stderr",
          "text": [
            "Epoch 11 [R-Drop Training]: 100%|██████████| 782/782 [02:45<00:00,  4.72it/s]\n"
          ]
        },
        {
          "output_type": "stream",
          "name": "stdout",
          "text": [
            "Loss: 1.175\n",
            "Accuracy: 69.00 %\n",
            "R-Drop Model 0.8 saved at epoch 11 to rdrop_model_0.8_checkpoint.pth\n"
          ]
        },
        {
          "output_type": "stream",
          "name": "stderr",
          "text": [
            "Epoch 12 [R-Drop Training]: 100%|██████████| 782/782 [02:45<00:00,  4.73it/s]\n"
          ]
        },
        {
          "output_type": "stream",
          "name": "stdout",
          "text": [
            "Loss: 1.172\n",
            "Accuracy: 69.73 %\n",
            "R-Drop Model 0.8 saved at epoch 12 to rdrop_model_0.8_checkpoint.pth\n"
          ]
        },
        {
          "output_type": "stream",
          "name": "stderr",
          "text": [
            "Epoch 13 [R-Drop Training]: 100%|██████████| 782/782 [02:46<00:00,  4.69it/s]\n"
          ]
        },
        {
          "output_type": "stream",
          "name": "stdout",
          "text": [
            "Loss: 1.148\n",
            "Accuracy: 69.49 %\n",
            "R-Drop Model 0.8 saved at epoch 13 to rdrop_model_0.8_checkpoint.pth\n"
          ]
        },
        {
          "output_type": "stream",
          "name": "stderr",
          "text": [
            "Epoch 14 [R-Drop Training]: 100%|██████████| 782/782 [02:46<00:00,  4.70it/s]\n"
          ]
        },
        {
          "output_type": "stream",
          "name": "stdout",
          "text": [
            "Loss: 1.135\n",
            "Accuracy: 70.33 %\n",
            "R-Drop Model 0.8 saved at epoch 14 to rdrop_model_0.8_checkpoint.pth\n"
          ]
        },
        {
          "output_type": "stream",
          "name": "stderr",
          "text": [
            "Epoch 15 [R-Drop Training]: 100%|██████████| 782/782 [02:47<00:00,  4.66it/s]\n"
          ]
        },
        {
          "output_type": "stream",
          "name": "stdout",
          "text": [
            "Loss: 1.129\n",
            "Accuracy: 69.14 %\n",
            "R-Drop Model 0.8 saved at epoch 15 to rdrop_model_0.8_checkpoint.pth\n"
          ]
        },
        {
          "output_type": "stream",
          "name": "stderr",
          "text": [
            "Epoch 16 [R-Drop Training]: 100%|██████████| 782/782 [02:48<00:00,  4.64it/s]\n"
          ]
        },
        {
          "output_type": "stream",
          "name": "stdout",
          "text": [
            "Loss: 1.110\n",
            "Accuracy: 70.15 %\n",
            "R-Drop Model 0.8 saved at epoch 16 to rdrop_model_0.8_checkpoint.pth\n"
          ]
        },
        {
          "output_type": "stream",
          "name": "stderr",
          "text": [
            "Epoch 17 [R-Drop Training]: 100%|██████████| 782/782 [02:48<00:00,  4.63it/s]\n"
          ]
        },
        {
          "output_type": "stream",
          "name": "stdout",
          "text": [
            "Loss: 1.102\n",
            "Accuracy: 71.45 %\n",
            "R-Drop Model 0.8 saved at epoch 17 to rdrop_model_0.8_checkpoint.pth\n"
          ]
        },
        {
          "output_type": "stream",
          "name": "stderr",
          "text": [
            "Epoch 18 [R-Drop Training]: 100%|██████████| 782/782 [02:48<00:00,  4.63it/s]\n"
          ]
        },
        {
          "output_type": "stream",
          "name": "stdout",
          "text": [
            "Loss: 1.091\n",
            "Accuracy: 70.77 %\n",
            "R-Drop Model 0.8 saved at epoch 18 to rdrop_model_0.8_checkpoint.pth\n"
          ]
        },
        {
          "output_type": "stream",
          "name": "stderr",
          "text": [
            "Epoch 19 [R-Drop Training]: 100%|██████████| 782/782 [02:49<00:00,  4.62it/s]\n"
          ]
        },
        {
          "output_type": "stream",
          "name": "stdout",
          "text": [
            "Loss: 1.088\n",
            "Accuracy: 70.66 %\n",
            "R-Drop Model 0.8 saved at epoch 19 to rdrop_model_0.8_checkpoint.pth\n"
          ]
        },
        {
          "output_type": "stream",
          "name": "stderr",
          "text": [
            "Epoch 20 [R-Drop Training]: 100%|██████████| 782/782 [02:48<00:00,  4.63it/s]\n"
          ]
        },
        {
          "output_type": "stream",
          "name": "stdout",
          "text": [
            "Loss: 1.078\n",
            "Accuracy: 71.64 %\n",
            "R-Drop Model 0.8 saved at epoch 20 to rdrop_model_0.8_checkpoint.pth\n"
          ]
        },
        {
          "output_type": "stream",
          "name": "stderr",
          "text": [
            "Epoch 21 [R-Drop Training]: 100%|██████████| 782/782 [02:48<00:00,  4.65it/s]\n"
          ]
        },
        {
          "output_type": "stream",
          "name": "stdout",
          "text": [
            "Loss: 1.073\n",
            "Accuracy: 71.30 %\n",
            "R-Drop Model 0.8 saved at epoch 21 to rdrop_model_0.8_checkpoint.pth\n"
          ]
        },
        {
          "output_type": "stream",
          "name": "stderr",
          "text": [
            "Epoch 22 [R-Drop Training]: 100%|██████████| 782/782 [02:47<00:00,  4.66it/s]\n"
          ]
        },
        {
          "output_type": "stream",
          "name": "stdout",
          "text": [
            "Loss: 1.064\n",
            "Accuracy: 71.45 %\n",
            "R-Drop Model 0.8 saved at epoch 22 to rdrop_model_0.8_checkpoint.pth\n"
          ]
        },
        {
          "output_type": "stream",
          "name": "stderr",
          "text": [
            "Epoch 23 [R-Drop Training]: 100%|██████████| 782/782 [02:47<00:00,  4.66it/s]\n"
          ]
        },
        {
          "output_type": "stream",
          "name": "stdout",
          "text": [
            "Loss: 1.058\n",
            "Accuracy: 71.69 %\n",
            "R-Drop Model 0.8 saved at epoch 23 to rdrop_model_0.8_checkpoint.pth\n"
          ]
        },
        {
          "output_type": "stream",
          "name": "stderr",
          "text": [
            "Epoch 24 [R-Drop Training]: 100%|██████████| 782/782 [02:47<00:00,  4.66it/s]\n"
          ]
        },
        {
          "output_type": "stream",
          "name": "stdout",
          "text": [
            "Loss: 1.049\n",
            "Accuracy: 73.00 %\n",
            "R-Drop Model 0.8 saved at epoch 24 to rdrop_model_0.8_checkpoint.pth\n"
          ]
        },
        {
          "output_type": "stream",
          "name": "stderr",
          "text": [
            "Epoch 25 [R-Drop Training]: 100%|██████████| 782/782 [02:47<00:00,  4.67it/s]\n"
          ]
        },
        {
          "output_type": "stream",
          "name": "stdout",
          "text": [
            "Loss: 1.045\n",
            "Accuracy: 73.83 %\n",
            "R-Drop Model 0.8 saved at epoch 25 to rdrop_model_0.8_checkpoint.pth\n"
          ]
        },
        {
          "output_type": "stream",
          "name": "stderr",
          "text": [
            "Epoch 26 [R-Drop Training]: 100%|██████████| 782/782 [02:44<00:00,  4.76it/s]\n"
          ]
        },
        {
          "output_type": "stream",
          "name": "stdout",
          "text": [
            "Loss: nan\n",
            "Accuracy: 10.00 %\n",
            "R-Drop Model 0.8 saved at epoch 26 to rdrop_model_0.8_checkpoint.pth\n"
          ]
        },
        {
          "output_type": "stream",
          "name": "stderr",
          "text": [
            "Epoch 27 [R-Drop Training]: 100%|██████████| 782/782 [02:42<00:00,  4.81it/s]\n"
          ]
        },
        {
          "output_type": "stream",
          "name": "stdout",
          "text": [
            "Loss: nan\n",
            "Accuracy: 10.00 %\n",
            "R-Drop Model 0.8 saved at epoch 27 to rdrop_model_0.8_checkpoint.pth\n"
          ]
        },
        {
          "output_type": "stream",
          "name": "stderr",
          "text": [
            "Epoch 28 [R-Drop Training]: 100%|██████████| 782/782 [02:41<00:00,  4.84it/s]\n"
          ]
        },
        {
          "output_type": "stream",
          "name": "stdout",
          "text": [
            "Loss: nan\n",
            "Accuracy: 10.00 %\n",
            "R-Drop Model 0.8 saved at epoch 28 to rdrop_model_0.8_checkpoint.pth\n"
          ]
        },
        {
          "output_type": "stream",
          "name": "stderr",
          "text": [
            "Epoch 29 [R-Drop Training]: 100%|██████████| 782/782 [02:41<00:00,  4.83it/s]\n"
          ]
        },
        {
          "output_type": "stream",
          "name": "stdout",
          "text": [
            "Loss: nan\n",
            "Accuracy: 10.00 %\n",
            "R-Drop Model 0.8 saved at epoch 29 to rdrop_model_0.8_checkpoint.pth\n"
          ]
        },
        {
          "output_type": "stream",
          "name": "stderr",
          "text": [
            "Epoch 30 [R-Drop Training]: 100%|██████████| 782/782 [02:41<00:00,  4.84it/s]\n"
          ]
        },
        {
          "output_type": "stream",
          "name": "stdout",
          "text": [
            "Loss: nan\n",
            "Accuracy: 10.00 %\n",
            "R-Drop Model 0.8 saved at epoch 30 to rdrop_model_0.8_checkpoint.pth\n",
            "\n",
            "--- Finished R-Drop Model 0.8 Training ---\n",
            "\n"
          ]
        }
      ]
    }
  ]
}